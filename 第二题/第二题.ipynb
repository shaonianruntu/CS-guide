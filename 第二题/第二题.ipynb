{
 "cells": [
  {
   "cell_type": "markdown",
   "metadata": {},
   "source": [
    "# 题目\n",
    "两个圆 l 和 m，相交于 P 和 Q，过 P 一条直线，使得直线被两圆所截得线段等长（该直线不是 PQ）"
   ]
  },
  {
   "cell_type": "code",
   "execution_count": 1,
   "metadata": {},
   "outputs": [],
   "source": [
    "import matplotlib.pyplot as plt\n",
    "from matplotlib.patches import Circle\n",
    "import numpy as np \n",
    "import math \n",
    "\n",
    "# 假设圆 l, m 的半径为 rl = 3, rm = 5。 两个圆圆心之间的距离 dlm = 6\n",
    "# 先绘制出这两个圆。\n",
    "\n",
    "rl=3\n",
    "rm=5\n",
    "dlm = 5\n",
    "xl = rl\n",
    "yl = 0\n",
    "xm = xl+4\n",
    "ym = yl+3\n",
    "\n",
    "fig = plt.figure()\n",
    "ax = fig.add_subplot(111)\n",
    "\n",
    "cirl = Circle(xy = (xl, yl), radius=rl, edgecolor=\"b\", facecolor=\"none\", linewidth=1.0)\n",
    "cirm = Circle(xy = (xm, ym), radius=rm, edgecolor=\"r\", facecolor=\"none\", linewidth=1.0)\n",
    "ax.add_patch(cirl)\n",
    "ax.add_patch(cirm)\n",
    "\n",
    "plt.plot(xl, yl, \"yo\", ms=3.0)\n",
    "plt.plot(xm, ym, \"yo\", ms=3.0)\n",
    "\n",
    "plt.axis(\"equal\")\n",
    "plt.grid()\n",
    "\n",
    "# plt.show()"
   ]
  },
  {
   "cell_type": "code",
   "execution_count": 2,
   "metadata": {},
   "outputs": [
    {
     "name": "stdout",
     "output_type": "stream",
     "text": [
      "[2.0024999999999999, 2.8292999999999999]\n",
      "[5.4368999999999996, -1.7497]\n"
     ]
    }
   ],
   "source": [
    "# 计算 P 和 Q 两个交点的坐标\n",
    "\n",
    "def drawPQ():\n",
    "    \n",
    "    for xp in np.arange(0, 2*rl+0.0001, 0.0001):\n",
    "        xp = round(xp,4)   #  存在浮点数运算时的失真问题\n",
    "        yp = ((rl**2)-(xp-rl)**2)**(1/2)\n",
    "        yp = round(yp, 4)\n",
    "        if round(((xp-xm)**2+(yp-ym)**2)**(1/2), 3) == rm:\n",
    "            ax.plot(xp, yp, \"go\", ms=5.0)\n",
    "            print([xp, yp])\n",
    "            break; \n",
    "        elif round(((xp-xm)**2+(-yp-ym)**2)**(1/2), 3) == rm:\n",
    "            ax.plot(xp, -yp, \"go\", ms=5.0)\n",
    "            print([xp, -yp])\n",
    "            yp = -yp\n",
    "            break;\n",
    "    for xq in np.arange(xp+0.001, 2*rl+0.0001, 0.0001):\n",
    "        xq = round(xq,4)   #  存在浮点数运算时的失真问题\n",
    "        yq = ((rl**2)-(xq-rl)**2)**(1/2)\n",
    "        yq = round(yq, 4)\n",
    "       # print(round(((xq-xm)**2+(-yq-ym)**2)**(1/2), 4))\n",
    "       # print([xq,yq])\n",
    "        if round(((xq-xm)**2+(yq-ym)**2)**(1/2), 3) == rm:\n",
    "            ax.plot(xq, yq, \"go\", ms=5.0)\n",
    "            print([xq, yq])\n",
    "            return xp, yp, xq, yq\n",
    "        elif round(((xq-xm)**2+(-yq-ym)**2)**(1/2), 3) == rm:\n",
    "            ax.plot(xq, -yq, \"go\", ms=5.0)\n",
    "            print([xq, -yq])\n",
    "            yq = -yq\n",
    "            return xp, yp, xq, yq\n",
    "    return False\n",
    "\n",
    "xp, yp, xq, yq = drawPQ()"
   ]
  },
  {
   "cell_type": "code",
   "execution_count": 3,
   "metadata": {},
   "outputs": [],
   "source": [
    "# plt.show()"
   ]
  },
  {
   "cell_type": "code",
   "execution_count": 4,
   "metadata": {},
   "outputs": [
    {
     "name": "stdout",
     "output_type": "stream",
     "text": [
      "72.5507501146\n",
      "72.5356481096\n",
      "34.9136017759\n"
     ]
    }
   ],
   "source": [
    "pl_2 = (yp-yl)**2+(xp-xl)**2\n",
    "pm_2 = (yp-ym)**2+(xp-xm)**2\n",
    "dlm_2 = dlm**2\n",
    "pl = pl_2**(1/2)\n",
    "pm = pm_2**(1/2)\n",
    "\n",
    "cos_l = (pl_2+dlm_2-pm_2) / (2*pl*dlm) \n",
    "cos_p = (pl_2+pm_2-dlm_2) / (2*pl*pm)\n",
    "cos_m = (pm_2+dlm_2-pl_2) / (2*pm*dlm)\n",
    "\n",
    "theta_l = np.arccos(cos_l)\n",
    "theta_p = np.arccos(cos_p)\n",
    "theta_m = np.arccos(cos_m)\n",
    "\n",
    "print(theta_l/np.pi*180)\n",
    "print(theta_p/np.pi*180)\n",
    "print(theta_m/np.pi*180)"
   ]
  },
  {
   "cell_type": "code",
   "execution_count": 5,
   "metadata": {
    "scrolled": false
   },
   "outputs": [
    {
     "name": "stdout",
     "output_type": "stream",
     "text": [
      "[0.75630000000000008, 1.1193067690098464]\n"
     ]
    }
   ],
   "source": [
    "def calc_dl_dm():\n",
    "    for agl_l in np.arange(0, 2*np.pi, 0.0001):\n",
    "        agl_m = np.pi - agl_l - theta_p\n",
    "        dl = round(rl * np.cos(agl_l), 3)\n",
    "        dm = round(rm * np.cos(agl_m), 3)\n",
    "      #  print([agl_l/np.pi*180, dl, agl_m/np.pi*180, dm])\n",
    "        if dl == dm and dl > 0:\n",
    "            print([agl_l, agl_m])\n",
    "            return agl_l, agl_m\n",
    "    return 0, 0\n",
    "\n",
    "angle_l, angle_m = calc_dl_dm()"
   ]
  },
  {
   "cell_type": "code",
   "execution_count": 6,
   "metadata": {},
   "outputs": [
    {
     "name": "stdout",
     "output_type": "stream",
     "text": [
      "0.727407745528\n",
      "[0.2336, -1.1606000000000001]\n"
     ]
    },
    {
     "data": {
      "text/plain": [
       "(0.2336, -1.1606000000000001)"
      ]
     },
     "execution_count": 6,
     "metadata": {},
     "output_type": "execute_result"
    }
   ],
   "source": [
    "def clac_new_l():\n",
    "    for new_xl in np.arange(0, 2*rl+0.0002,0.0002):\n",
    "        new_xl = round(new_xl,4)\n",
    "        new_yl = ((rl**2)-(new_xl-xl)**2)**(1/2)\n",
    "        new_yl = round(new_yl,4)\n",
    "        d_new_p_2_1 = (new_yl-yp)**2+(new_xl-xp)**2\n",
    "        d_new_l_2_1 = (new_yl-yl)**2+(new_xl-xl)**2\n",
    "        d_new_p_2_2 = (-new_yl-yp)**2+(new_xl-xp)**2\n",
    "        d_new_l_2_2 = (-new_yl-yl)**2+(new_xl-xl)**2    \n",
    "        d_new_p_1 = d_new_p_2_1**(1/2)\n",
    "        d_new_l_1 = d_new_l_2_1**(1/2)\n",
    "        d_new_p_2 = d_new_p_2_2**(1/2)\n",
    "        d_new_l_2 = d_new_l_2_2**(1/2)    \n",
    "        cos_new_l_1 = (d_new_p_2_1+pl_2-d_new_l_2_1) / (2*d_new_p_1*pl)\n",
    "        cos_new_l_2 = (d_new_p_2_2+pl_2-d_new_l_2_2) / (2*d_new_p_2*pl)\n",
    "        if round(cos_new_l_1,4) == round(np.cos(angle_l), 4):\n",
    "            print(cos_new_l_1)\n",
    "            ax.plot(new_xl, new_yl, \"ro\", ms=5.0)\n",
    "            ax.plot([new_xl, xp],[new_yl, yp],linestyle='--', color=\"b\")\n",
    "            print([new_xl, new_yl])\n",
    "            return new_xl, new_yl;\n",
    "        elif round(cos_new_l_2,4) == round(np.cos(angle_l), 4):\n",
    "            print(cos_new_l_2)\n",
    "            new_yl = -new_yl\n",
    "            ax.plot(new_xl, new_yl, \"ro\", ms=5.0)\n",
    "            ax.plot([new_xl, xp],[new_yl, yp],linestyle='--', color=\"b\")\n",
    "            print([new_xl, new_yl]) \n",
    "            \n",
    "            return new_xl, new_yl;          \n",
    "    return False\n",
    "\n",
    "clac_new_l()"
   ]
  },
  {
   "cell_type": "code",
   "execution_count": 7,
   "metadata": {},
   "outputs": [
    {
     "name": "stdout",
     "output_type": "stream",
     "text": [
      "0.435508442151\n",
      "[3.7639999999999998, 6.8116000000000003]\n"
     ]
    },
    {
     "data": {
      "text/plain": [
       "(3.7639999999999998, 6.8116000000000003)"
      ]
     },
     "execution_count": 7,
     "metadata": {},
     "output_type": "execute_result"
    }
   ],
   "source": [
    "def clac_new_m():\n",
    "    for new_xm in np.arange(xm-rm, xm+rm+0.0001,0.0001):\n",
    "        new_xm = round(new_xm,4)\n",
    "        new_ym = ((rm**2)-(new_xm-xm)**2)**(1/2) + ym\n",
    "        new_ym = round(new_ym,4)\n",
    "        new_ym_2 = -(((rm**2)-(new_xm-xm)**2)**(1/2)) + ym\n",
    "        new_ym_2 = round(new_ym_2,4)\n",
    "        d_new_p_2_1 = (new_ym-yp)**2+(new_xm-xp)**2\n",
    "        d_new_m_2_1 = (new_ym-ym)**2+(new_xm-xm)**2\n",
    "        d_new_p_2_2 = (new_ym_2-yp)**2+(new_xm-xp)**2\n",
    "        d_new_m_2_2 = (new_ym_2-ym)**2+(new_xm-xm)**2    \n",
    "        d_new_p_1 = d_new_p_2_1**(1/2)\n",
    "        d_new_m_1 = d_new_m_2_1**(1/2)\n",
    "        d_new_p_2 = d_new_p_2_2**(1/2)\n",
    "        d_new_m_2 = d_new_m_2_2**(1/2)    \n",
    "        cos_new_m_1 = (d_new_p_2_1+pm_2-d_new_m_2_1) / (2*d_new_p_1*pm)\n",
    "        cos_new_m_2 = (d_new_p_2_2+pm_2-d_new_m_2_2) / (2*d_new_p_2*pm)\n",
    "     #   print([new_xm,new_ym, cos_new_m_1, angle_m])\n",
    "        if round(cos_new_m_1,3) == round(np.cos(angle_m), 3):\n",
    "            print(cos_new_m_1)\n",
    "            ax.plot(new_xm, new_ym, \"ro\", ms=5.0)\n",
    "            ax.plot([new_xm, xp],[new_ym, yp],linestyle='--', color=\"b\")\n",
    "            print([new_xm, new_ym])\n",
    "            return new_xm, new_ym;\n",
    "        elif round(cos_new_m_2,3) == round(np.cos(angle_m), 3):\n",
    "            print(cos_new_m_2)\n",
    "            ax.plot(new_xm, -new_ym, \"ro\", ms=5.0)\n",
    "            ax.plot([new_xm, xp],[new_ym, yp],linestyle='--', color=\"b\")\n",
    "            print([new_xm, -new_ym]) \n",
    "            return new_xm, -new_ym;          \n",
    "    return False\n",
    "\n",
    "clac_new_m()"
   ]
  },
  {
   "cell_type": "code",
   "execution_count": 8,
   "metadata": {},
   "outputs": [
    {
     "data": {
      "image/png": "[encoded data removed]",
      "text/plain": [
       "<matplotlib.figure.Figure at 0x27db2a3f940>"
      ]
     },
     "metadata": {},
     "output_type": "display_data"
    }
   ],
   "source": [
    "plt.show()"
   ]
  },
  {
   "cell_type": "code",
   "execution_count": null,
   "metadata": {
    "collapsed": true
   },
   "outputs": [],
   "source": []
  }
 ],
 "metadata": {
  "kernelspec": {
   "display_name": "Python 3",
   "language": "python",
   "name": "python3"
  },
  "language_info": {
   "codemirror_mode": {
    "name": "ipython",
    "version": 3
   },
   "file_extension": ".py",
   "mimetype": "text/x-python",
   "name": "python",
   "nbconvert_exporter": "python",
   "pygments_lexer": "ipython3",
   "version": "3.6.3"
  }
 },
 "nbformat": 4,
 "nbformat_minor": 2
}
