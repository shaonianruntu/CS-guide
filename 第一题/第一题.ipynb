{
 "cells": [
  {
   "cell_type": "markdown",
   "metadata": {},
   "source": [
    "# 题目\n",
    "一个定圆，圆内有两点，作圆内接直角三角形（假如有的话），使得两点分别在直角三角形的两条直角边上。"
   ]
  },
  {
   "cell_type": "code",
   "execution_count": 1,
   "metadata": {
    "collapsed": true
   },
   "outputs": [],
   "source": [
    "# %matplotlib inline\n",
    "\n",
    "import matplotlib.pyplot as plt\n",
    "from matplotlib.patches import Circle\n",
    "\n",
    "point_num = 2\n",
    "radius = 5.0\n",
    "\n",
    "fig = plt.figure()\n",
    "ax = fig.add_subplot(111)\n",
    "\n",
    "cir = Circle(xy = (0, 0), radius=radius, edgecolor=\"b\", facecolor=\"none\", linewidth=1.0)\n",
    "ax.add_patch(cir)\n",
    "\n",
    "plt.axis(\"equal\")\n",
    "plt.grid()\n",
    "# plt.show()"
   ]
  },
  {
   "cell_type": "markdown",
   "metadata": {},
   "source": [
    "下面的两个 block 可以选取其中的一个执行，第一个 block 是生成一个一定可以画出直角三角形的两个点。\n",
    "第二个 block 是随机生成两个点，不一定能画出直角三角形。"
   ]
  },
  {
   "cell_type": "code",
   "execution_count": 2,
   "metadata": {},
   "outputs": [
    {
     "name": "stdout",
     "output_type": "stream",
     "text": [
      "[2.5, 2.5]\n",
      "[-2.5, 2.5]\n"
     ]
    }
   ],
   "source": [
    "# 为了证明模型的正确型，这里提供一组可以检测到直角三角形的两点坐标:\n",
    "# [2.5, 2.5]\n",
    "# [-2.5, 2.5]\n",
    "x = []\n",
    "y = []\n",
    "\n",
    "x.append(2.5)\n",
    "y.append(2.5)\n",
    "x.append(-2.5)\n",
    "y.append(2.5)\n",
    "\n",
    "# x[0], y[0] = 2.5, 2.5\n",
    "# x[1], y[1] = -2.5, 2.5\n",
    "\n",
    "for i in range(0, point_num):\n",
    "    ax.plot(x[i], y[i], 'ro', ms=5.0)\n",
    "    print([x[i], y[i]])   "
   ]
  },
  {
   "cell_type": "code",
   "execution_count": null,
   "metadata": {
    "collapsed": true
   },
   "outputs": [],
   "source": [
    "# 为了防止重复运行此处内容，暂时注释掉\n",
    "\n",
    "# import random \n",
    "\n",
    "# x = []\n",
    "# y = []\n",
    "\n",
    "# # 随机画两个点\n",
    "# for i in range(0, point_num):\n",
    "#     while True:\n",
    "#         x.append(random.uniform(-radius, radius))\n",
    "#         y.append(random.uniform(-radius, radius))\n",
    "#         if (x[i]**2) + (y[i]**2) < (radius**2):\n",
    "#             break\n",
    "#     ax.plot(x[i], y[i], 'ro', ms=5.0)\n",
    "#     print([x[i], y[i]])\n",
    "\n",
    "# # plt.show()\n",
    "\n"
   ]
  },
  {
   "cell_type": "code",
   "execution_count": 3,
   "metadata": {},
   "outputs": [
    {
     "name": "stdout",
     "output_type": "stream",
     "text": [
      "[0.0, 2.5]\n",
      "6.25\n"
     ]
    },
    {
     "data": {
      "text/plain": [
       "[<matplotlib.lines.Line2D at 0x2d945b4c710>]"
      ]
     },
     "execution_count": 3,
     "metadata": {},
     "output_type": "execute_result"
    }
   ],
   "source": [
    "import math \n",
    "import numpy as np\n",
    "\n",
    "# 求两个点的中点，中点到圆的距离等于中点到这两个点的距离。\n",
    "xm = np.sum(x)/2\n",
    "ym = np.sum(y)/2\n",
    "ds_2 = (xm-x[0])**2+(ym-y[0])**2\n",
    "\n",
    "print([xm,ym])\n",
    "print(ds_2)\n",
    "\n",
    "ax.plot(xm, ym, 'yo', ms=3.0)\n",
    "\n",
    "# plt.show()"
   ]
  },
  {
   "cell_type": "code",
   "execution_count": 4,
   "metadata": {},
   "outputs": [
    {
     "name": "stdout",
     "output_type": "stream",
     "text": [
      "[-0.0, 5.0]\n"
     ]
    }
   ],
   "source": [
    "import decimal  \n",
    "\n",
    "xs, ys = 0, 0;\n",
    "\n",
    "def findVertex():\n",
    "#     for theta in np.arange(-math.pi, math.pi, 0.000001):\n",
    "#         xs = radius*math.sin(theta)\n",
    "#         ys = radius*math.cos(theta)\n",
    "    for xs in np.arange(-radius, radius+0.0001, 0.0001):\n",
    "        xs = round(xs,4)   #  存在浮点数运算时的失真问题\n",
    "        ys = (((radius**2)-(abs(xs)**2))**(1/2))\n",
    "        ys = round(ys, 4)\n",
    "        if ((xs-xm)**2+(ys-ym)**2) == ds_2 : \n",
    "            ax.plot(xs, ys, 'go', ms=5.0)\n",
    "            print([xs,ys])\n",
    "            return xs, ys\n",
    "        elif (((xs-xm)**2+(-ys-ym)**2)**(1/2)) == ds_2 : \n",
    "            ax.plot(xs,-ys, 'go', ms=5.0)\n",
    "            print([xs,-ys])\n",
    "            return xs, ys      \n",
    "    return False\n",
    "        \n",
    "\n",
    "xs, ys = findVertex()\n",
    "if (xs == 0) and (ys == 0):\n",
    "    print(\"error!\")"
   ]
  },
  {
   "cell_type": "code",
   "execution_count": 5,
   "metadata": {},
   "outputs": [
    {
     "name": "stdout",
     "output_type": "stream",
     "text": [
      "[5.0, 0.0]\n",
      "[-5.0, 0.0]\n"
     ]
    }
   ],
   "source": [
    "from matplotlib.lines import Line2D\n",
    "\n",
    "k1 = (ys-y[0])/(xs-x[0])\n",
    "k1 = round(k1,4)\n",
    "k2 = (ys-y[1])/(xs-x[1])\n",
    "k2 = round(k2,4)\n",
    "\n",
    "x1, y1 = 0, 0\n",
    "x2, y2 = 0, 0\n",
    "\n",
    "def calcVertex(xd, yd, k):\n",
    "    for xi in np.arange(-radius, radius+0.01, 0.01):\n",
    "        xi = round(xi, 2)\n",
    "        if xi != xd and xi != xs:\n",
    "            yi = (((radius**2)-(abs(xi)**2))**(1/2))\n",
    "            yi = round(yi, 3)\n",
    "          #  print([xi, yi])\n",
    "          #  print((yd-yi)/(xd-xi))\n",
    "            if (yd-yi)/(xd-xi) == k:\n",
    "                ax.plot(xi, yi, 'go', ms=5.0)\n",
    "                print([xi,yi])\n",
    "                ax.plot([xs, xi],[ys, yi],linestyle='--', color=\"b\")\n",
    "                return xi, yi;\n",
    "            elif (yd-(-yi))/(xd-xi) == k:\n",
    "                ax.plot(xi, -yi, 'go', ms=5.0)\n",
    "                print([xi,-yi])\n",
    "                ax.plot([xs, xi],[ys, -yi],linestyle='--', color=\"b\")\n",
    "                return xi, yi;\n",
    "    return False;\n",
    "\n",
    "x1, y1 = calcVertex(x[0], y[0], k1)\n",
    "x2, y2 = calcVertex(x[1], y[1], k2)\n",
    "\n",
    "if (x1 != 0 or y1 != 0) and (x2 != 0 or y2 != 0):\n",
    "    ax.plot([x1, x2],[y1, y2],linestyle='--', color=\"b\")"
   ]
  },
  {
   "cell_type": "code",
   "execution_count": 6,
   "metadata": {},
   "outputs": [
    {
     "data": {
      "image/png": "[encoded data removed]",
      "text/plain": [
       "<matplotlib.figure.Figure at 0x2d9448e6358>"
      ]
     },
     "metadata": {},
     "output_type": "display_data"
    }
   ],
   "source": [
    "plt.show()"
   ]
  },
  {
   "cell_type": "code",
   "execution_count": null,
   "metadata": {
    "collapsed": true
   },
   "outputs": [],
   "source": []
  }
 ],
 "metadata": {
  "kernelspec": {
   "display_name": "Python 3",
   "language": "python",
   "name": "python3"
  },
  "language_info": {
   "codemirror_mode": {
    "name": "ipython",
    "version": 3
   },
   "file_extension": ".py",
   "mimetype": "text/x-python",
   "name": "python",
   "nbconvert_exporter": "python",
   "pygments_lexer": "ipython3",
   "version": "3.6.3"
  }
 },
 "nbformat": 4,
 "nbformat_minor": 2
}
